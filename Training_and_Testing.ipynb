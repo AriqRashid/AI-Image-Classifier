{
  "cells": [
    {
      "cell_type": "code",
      "execution_count": 1,
      "id": "46aa2cf1",
      "metadata": {
        "id": "46aa2cf1"
      },
      "outputs": [],
      "source": [
        "import torch\n",
        "import torch.nn as nn\n",
        "import torch.nn.functional as F\n",
        "import torchvision\n",
        "import torchvision.transforms as transforms\n",
        "import matplotlib.pyplot as plt\n",
        "import numpy as np\n",
        "import pandas as pd\n",
        "from PIL import Image\n",
        "from torch.utils.data import Dataset\n",
        "import time\n",
        "from torchvision import datasets\n",
        "import os"
      ]
    },
    {
      "cell_type": "markdown",
      "source": [
        "# Unzipping Files\n",
        "\n",
        "## Instruction: Upload \"archive(3).zip, Name new folder and title it \"AI Images\"\n"
      ],
      "metadata": {
        "id": "jSUqCrDLDTqV"
      },
      "id": "jSUqCrDLDTqV"
    },
    {
      "cell_type": "code",
      "source": [
        "!unzip \"archive(3)\".zip"
      ],
      "metadata": {
        "collapsed": true,
        "id": "dGIVYvwo__vk"
      },
      "id": "dGIVYvwo__vk",
      "execution_count": null,
      "outputs": []
    },
    {
      "cell_type": "markdown",
      "source": [
        "# Data Prep"
      ],
      "metadata": {
        "id": "yBp6vGetDqQh"
      },
      "id": "yBp6vGetDqQh"
    },
    {
      "cell_type": "code",
      "source": [
        "transform = transforms.Compose([transforms.ToTensor(), transforms.Normalize((0.5, 0.5, 0.5), (0.5, 0.5, 0.5))])"
      ],
      "metadata": {
        "id": "R6xYmPmiCvhW"
      },
      "id": "R6xYmPmiCvhW",
      "execution_count": 5,
      "outputs": []
    },
    {
      "cell_type": "markdown",
      "source": [],
      "metadata": {
        "id": "RMoUCodQDadY"
      },
      "id": "RMoUCodQDadY"
    },
    {
      "cell_type": "code",
      "source": [
        "data_dir = \"Images\"\n",
        "image_datasets = {x: datasets.ImageFolder(os.path.join(data_dir, x),\n",
        "                                          transform)\n",
        "                  for x in ['train', 'test']}\n",
        "print(len(image_datasets['train']))\n",
        "print(len(image_datasets['test']))"
      ],
      "metadata": {
        "colab": {
          "base_uri": "https://localhost:8080/"
        },
        "id": "wvK7PxjZCPdk",
        "outputId": "4a5a79ac-f985-442c-c0c3-59d14d5493d6"
      },
      "id": "wvK7PxjZCPdk",
      "execution_count": 7,
      "outputs": [
        {
          "output_type": "stream",
          "name": "stdout",
          "text": [
            "100000\n",
            "20000\n"
          ]
        }
      ]
    },
    {
      "cell_type": "markdown",
      "source": [
        "## Choosing epochs, batch size, and learning rate\n",
        "\n",
        "## Creating DataLoader"
      ],
      "metadata": {
        "id": "iLxe3mGZDvje"
      },
      "id": "iLxe3mGZDvje"
    },
    {
      "cell_type": "code",
      "source": [
        "epochs = 30\n",
        "batch = 32\n",
        "learning_rate = 0.01"
      ],
      "metadata": {
        "id": "xPcYKHvADFmE"
      },
      "id": "xPcYKHvADFmE",
      "execution_count": 23,
      "outputs": []
    },
    {
      "cell_type": "code",
      "source": [
        "dataloaders = {x: torch.utils.data.DataLoader(image_datasets[x], batch_size=batch,\n",
        "                                             shuffle=True, num_workers=0)\n",
        "              for x in ['train', 'test']}\n",
        "dataset_sizes = {x: len(image_datasets[x]) for x in ['train', 'test']}\n",
        "class_names = image_datasets['train'].classes\n",
        "print(class_names)"
      ],
      "metadata": {
        "colab": {
          "base_uri": "https://localhost:8080/"
        },
        "id": "M7DuBZP5C6tc",
        "outputId": "2f698446-5679-4790-9390-9c436017b51f"
      },
      "id": "M7DuBZP5C6tc",
      "execution_count": 24,
      "outputs": [
        {
          "output_type": "stream",
          "name": "stdout",
          "text": [
            "['FAKE', 'REAL']\n"
          ]
        }
      ]
    },
    {
      "cell_type": "markdown",
      "source": [
        "# Creating ConvNet Class"
      ],
      "metadata": {
        "id": "xHLtpsA6D3TV"
      },
      "id": "xHLtpsA6D3TV"
    },
    {
      "cell_type": "code",
      "execution_count": 11,
      "id": "7e693f9f",
      "metadata": {
        "id": "7e693f9f"
      },
      "outputs": [],
      "source": [
        "class ConvNet(nn.Module):\n",
        "\n",
        "    def __init__(self):\n",
        "        super(ConvNet, self).__init__()\n",
        "        self.conv1 = nn.Conv2d(3, 6, 5)\n",
        "        self.pool = nn.MaxPool2d(2, 2)\n",
        "        self.conv2 = nn.Conv2d(6, 16, 5)\n",
        "        self.fc1 = nn.Linear(16*5*5, 120)\n",
        "        self.fc2 = nn.Linear(120, 84)\n",
        "        self.fc3 = nn.Linear(84, 2)\n",
        "\n",
        "    def forward(self, x):\n",
        "\n",
        "        x = self.pool(F.relu(self.conv1(x)))\n",
        "        x = self.pool(F.relu(self.conv2(x)))\n",
        "        x = x.view(-1, 16*5*5)\n",
        "        x = F.relu(self.fc1(x))\n",
        "        x = F.relu(self.fc2(x))\n",
        "        x = self.fc3(x)\n",
        "\n",
        "        return x"
      ]
    },
    {
      "cell_type": "markdown",
      "source": [
        "# Prepping for Training"
      ],
      "metadata": {
        "id": "UR7UsW-uD6YA"
      },
      "id": "UR7UsW-uD6YA"
    },
    {
      "cell_type": "code",
      "execution_count": 25,
      "id": "c8cd2108",
      "metadata": {
        "id": "c8cd2108"
      },
      "outputs": [],
      "source": [
        "device = torch.device('cuda' if torch.cuda.is_available() else 'cpu')"
      ]
    },
    {
      "cell_type": "code",
      "execution_count": 26,
      "id": "545ffae6",
      "metadata": {
        "id": "545ffae6"
      },
      "outputs": [],
      "source": [
        "model = ConvNet().to(device)\n",
        "criterion = nn.CrossEntropyLoss()\n",
        "optimizer = torch.optim.SGD(model.parameters(), lr=learning_rate)"
      ]
    },
    {
      "cell_type": "markdown",
      "source": [
        "# Training"
      ],
      "metadata": {
        "id": "kS2Fh1JVEEzo"
      },
      "id": "kS2Fh1JVEEzo"
    },
    {
      "cell_type": "code",
      "execution_count": 27,
      "id": "e136b429",
      "metadata": {
        "colab": {
          "base_uri": "https://localhost:8080/"
        },
        "id": "e136b429",
        "outputId": "d0bd6494-a643-4954-f9db-11c06adfe32f"
      },
      "outputs": [
        {
          "output_type": "stream",
          "name": "stdout",
          "text": [
            "Epoch [1/30], Step [1500/3125], Loss: 0.5714\n",
            "Epoch [1/30], Step [3000/3125], Loss: 0.4600\n",
            "Epoch [2/30], Step [1500/3125], Loss: 0.2671\n",
            "Epoch [2/30], Step [3000/3125], Loss: 0.3171\n",
            "Epoch [3/30], Step [1500/3125], Loss: 0.4445\n",
            "Epoch [3/30], Step [3000/3125], Loss: 0.2564\n",
            "Epoch [4/30], Step [1500/3125], Loss: 0.1635\n",
            "Epoch [4/30], Step [3000/3125], Loss: 0.2604\n",
            "Epoch [5/30], Step [1500/3125], Loss: 0.2537\n",
            "Epoch [5/30], Step [3000/3125], Loss: 0.1394\n",
            "Epoch [6/30], Step [1500/3125], Loss: 0.3585\n",
            "Epoch [6/30], Step [3000/3125], Loss: 0.2353\n",
            "Epoch [7/30], Step [1500/3125], Loss: 0.1823\n",
            "Epoch [7/30], Step [3000/3125], Loss: 0.1779\n",
            "Epoch [8/30], Step [1500/3125], Loss: 0.2519\n",
            "Epoch [8/30], Step [3000/3125], Loss: 0.0797\n",
            "Epoch [9/30], Step [1500/3125], Loss: 0.1317\n",
            "Epoch [9/30], Step [3000/3125], Loss: 0.0768\n",
            "Epoch [10/30], Step [1500/3125], Loss: 0.1030\n",
            "Epoch [10/30], Step [3000/3125], Loss: 0.1528\n",
            "Epoch [11/30], Step [1500/3125], Loss: 0.3859\n",
            "Epoch [11/30], Step [3000/3125], Loss: 0.1023\n",
            "Epoch [12/30], Step [1500/3125], Loss: 0.1831\n",
            "Epoch [12/30], Step [3000/3125], Loss: 0.2091\n",
            "Epoch [13/30], Step [1500/3125], Loss: 0.2059\n",
            "Epoch [13/30], Step [3000/3125], Loss: 0.3093\n",
            "Epoch [14/30], Step [1500/3125], Loss: 0.1011\n",
            "Epoch [14/30], Step [3000/3125], Loss: 0.1281\n",
            "Epoch [15/30], Step [1500/3125], Loss: 0.2235\n",
            "Epoch [15/30], Step [3000/3125], Loss: 0.1037\n",
            "Epoch [16/30], Step [1500/3125], Loss: 0.2745\n",
            "Epoch [16/30], Step [3000/3125], Loss: 0.1793\n",
            "Epoch [17/30], Step [1500/3125], Loss: 0.0963\n",
            "Epoch [17/30], Step [3000/3125], Loss: 0.1793\n",
            "Epoch [18/30], Step [1500/3125], Loss: 0.1460\n",
            "Epoch [18/30], Step [3000/3125], Loss: 0.0826\n",
            "Epoch [19/30], Step [1500/3125], Loss: 0.1335\n",
            "Epoch [19/30], Step [3000/3125], Loss: 0.1195\n",
            "Epoch [20/30], Step [1500/3125], Loss: 0.1315\n",
            "Epoch [20/30], Step [3000/3125], Loss: 0.1728\n",
            "Epoch [21/30], Step [1500/3125], Loss: 0.1476\n",
            "Epoch [21/30], Step [3000/3125], Loss: 0.2126\n",
            "Epoch [22/30], Step [1500/3125], Loss: 0.0714\n",
            "Epoch [22/30], Step [3000/3125], Loss: 0.0793\n",
            "Epoch [23/30], Step [1500/3125], Loss: 0.1664\n",
            "Epoch [23/30], Step [3000/3125], Loss: 0.1552\n",
            "Epoch [24/30], Step [1500/3125], Loss: 0.1170\n",
            "Epoch [24/30], Step [3000/3125], Loss: 0.0416\n",
            "Epoch [25/30], Step [1500/3125], Loss: 0.1041\n",
            "Epoch [25/30], Step [3000/3125], Loss: 0.0698\n",
            "Epoch [26/30], Step [1500/3125], Loss: 0.1051\n",
            "Epoch [26/30], Step [3000/3125], Loss: 0.1240\n",
            "Epoch [27/30], Step [1500/3125], Loss: 0.2339\n",
            "Epoch [27/30], Step [3000/3125], Loss: 0.1423\n",
            "Epoch [28/30], Step [1500/3125], Loss: 0.0968\n",
            "Epoch [28/30], Step [3000/3125], Loss: 0.0999\n",
            "Epoch [29/30], Step [1500/3125], Loss: 0.2350\n",
            "Epoch [29/30], Step [3000/3125], Loss: 0.0869\n",
            "Epoch [30/30], Step [1500/3125], Loss: 0.0860\n",
            "Epoch [30/30], Step [3000/3125], Loss: 0.0502\n",
            "--- 1746.0095624923706 seconds ---\n"
          ]
        }
      ],
      "source": [
        "start_time = time.time()\n",
        "n_total_steps = len(dataloaders['train'])\n",
        "num_epochs = epochs\n",
        "start_time = time.time()\n",
        "for epoch in range(num_epochs):\n",
        "    for i, (images, labels) in enumerate(dataloaders['train']):\n",
        "\n",
        "        images = images.to(device)\n",
        "        labels = labels.to(device)\n",
        "\n",
        "        # Forward pass\n",
        "        outputs = model(images)\n",
        "        loss = criterion(outputs, labels)\n",
        "\n",
        "        # Backward and optimize\n",
        "        optimizer.zero_grad()\n",
        "        loss.backward()\n",
        "        optimizer.step()\n",
        "\n",
        "        if (i+1) % 1500 == 0:\n",
        "            print (f'Epoch [{epoch+1}/{num_epochs}], Step [{i+1}/{n_total_steps}], Loss: {loss.item():.4f}')\n",
        "print(\"--- %s seconds ---\" % (time.time() - start_time))"
      ]
    },
    {
      "cell_type": "markdown",
      "source": [
        "# Saving Model\n",
        "\n",
        "## DOWNLOAD .pth FILE BEFORE FINISHING"
      ],
      "metadata": {
        "id": "hSGBXKCbEHm-"
      },
      "id": "hSGBXKCbEHm-"
    },
    {
      "cell_type": "code",
      "source": [
        "PATH = './e30_b32_lr01.pth'\n",
        "torch.save(model.state_dict(), PATH)"
      ],
      "metadata": {
        "id": "j82EmPH9EJPG"
      },
      "id": "j82EmPH9EJPG",
      "execution_count": 29,
      "outputs": []
    },
    {
      "cell_type": "markdown",
      "source": [
        "## Loading Model on GPU (if needed)"
      ],
      "metadata": {
        "id": "d-aDw5aOETEw"
      },
      "id": "d-aDw5aOETEw"
    },
    {
      "cell_type": "code",
      "source": [
        "loaded_model = ConvNet().to(device)\n",
        "loaded_model.load_state_dict(torch.load(\"cnn.pth\"))\n",
        "model = loaded_model"
      ],
      "metadata": {
        "id": "x2UMjq64EYh4"
      },
      "id": "x2UMjq64EYh4",
      "execution_count": null,
      "outputs": []
    },
    {
      "cell_type": "markdown",
      "source": [
        "# Evaluating and Testing Model"
      ],
      "metadata": {
        "id": "dVzH2198Eftr"
      },
      "id": "dVzH2198Eftr"
    },
    {
      "cell_type": "code",
      "source": [
        "with torch.no_grad():\n",
        "    n_correct = 0\n",
        "    n_samples = 0\n",
        "    for images, labels in dataloaders['test']:\n",
        "\n",
        "        images = images.to(device)\n",
        "        labels = labels.to(device)\n",
        "        outputs = model(images)\n",
        "\n",
        "        _, predicted = torch.max(outputs.data, 1)\n",
        "        n_samples += labels.size(0)\n",
        "        n_correct += (predicted == labels).sum().item()\n",
        "\n",
        "    acc = 100.0 * n_correct / n_samples\n",
        "    print(f'Accuracy of the network on the {len(dataloaders[\"test\"])} test images: {acc} %')"
      ],
      "metadata": {
        "colab": {
          "base_uri": "https://localhost:8080/"
        },
        "id": "7NoHjRpYEjaO",
        "outputId": "06c404b9-ce24-45c4-8a9b-95dd69c9fcad"
      },
      "id": "7NoHjRpYEjaO",
      "execution_count": 28,
      "outputs": [
        {
          "output_type": "stream",
          "name": "stdout",
          "text": [
            "Accuracy of the network on the 625 test images: 92.67 %\n"
          ]
        }
      ]
    }
  ],
  "metadata": {
    "kernelspec": {
      "display_name": "Python 3",
      "name": "python3"
    },
    "language_info": {
      "codemirror_mode": {
        "name": "ipython",
        "version": 3
      },
      "file_extension": ".py",
      "mimetype": "text/x-python",
      "name": "python",
      "nbconvert_exporter": "python",
      "pygments_lexer": "ipython3",
      "version": "3.9.13"
    },
    "colab": {
      "provenance": [],
      "gpuType": "T4"
    },
    "accelerator": "GPU"
  },
  "nbformat": 4,
  "nbformat_minor": 5
}