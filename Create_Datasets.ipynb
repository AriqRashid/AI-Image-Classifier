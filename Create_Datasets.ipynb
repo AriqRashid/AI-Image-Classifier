{
 "cells": [
  {
   "cell_type": "code",
   "execution_count": 9,
   "id": "a3013b16",
   "metadata": {},
   "outputs": [],
   "source": [
    "import matplotlib.pyplot as plt\n",
    "import numpy as np\n",
    "from PIL import Image\n",
    "import os\n",
    "import pandas as pd\n",
    "import torch\n",
    "import torchvision\n",
    "import torchvision.transforms as transforms\n",
    "from torchvision import datasets\n",
    "from torchvision.io import read_image\n",
    "from torch.utils.data import Dataset, DataLoader\n",
    "import math"
   ]
  },
  {
   "cell_type": "code",
   "execution_count": 39,
   "id": "d230f0dc",
   "metadata": {},
   "outputs": [],
   "source": [
    "img = np.asarray(Image.open('Images/train/REAL/0000 (2).jpg'))"
   ]
  },
  {
   "cell_type": "code",
   "execution_count": 40,
   "id": "f78e8a63",
   "metadata": {
    "scrolled": true
   },
   "outputs": [
    {
     "name": "stdout",
     "output_type": "stream",
     "text": [
      "array([[[168, 180, 192],\n",
      "        [174, 186, 198],\n",
      "        [179, 191, 207],\n",
      "        ...,\n",
      "        [163, 179, 205],\n",
      "        [163, 179, 205],\n",
      "        [161, 177, 203]],\n",
      "\n",
      "       [[169, 181, 193],\n",
      "        [167, 181, 194],\n",
      "        [162, 175, 191],\n",
      "        ...,\n",
      "        [163, 178, 207],\n",
      "        [161, 176, 205],\n",
      "        [157, 172, 201]],\n",
      "\n",
      "       [[156, 172, 185],\n",
      "        [147, 163, 178],\n",
      "        [130, 146, 162],\n",
      "        ...,\n",
      "        [162, 181, 213],\n",
      "        [158, 177, 209],\n",
      "        [151, 170, 202]],\n",
      "\n",
      "       ...,\n",
      "\n",
      "       [[ 78,  83,  86],\n",
      "        [ 79,  84,  87],\n",
      "        [ 89,  94,  97],\n",
      "        ...,\n",
      "        [ 73,  73,  75],\n",
      "        [ 72,  70,  73],\n",
      "        [ 67,  65,  68]],\n",
      "\n",
      "       [[ 70,  72,  71],\n",
      "        [ 75,  77,  76],\n",
      "        [ 79,  81,  80],\n",
      "        ...,\n",
      "        [ 72,  77,  81],\n",
      "        [ 68,  72,  75],\n",
      "        [ 60,  64,  67]],\n",
      "\n",
      "       [[ 74,  74,  72],\n",
      "        [ 72,  72,  70],\n",
      "        [ 69,  69,  69],\n",
      "        ...,\n",
      "        [ 74,  83,  88],\n",
      "        [ 75,  82,  88],\n",
      "        [ 72,  77,  81]]], dtype=uint8)\n"
     ]
    }
   ],
   "source": [
    "print(repr(img))"
   ]
  },
  {
   "cell_type": "code",
   "execution_count": 41,
   "id": "0a8bfa49",
   "metadata": {},
   "outputs": [
    {
     "data": {
      "text/plain": [
       "(32, 32, 3)"
      ]
     },
     "execution_count": 41,
     "metadata": {},
     "output_type": "execute_result"
    }
   ],
   "source": [
    "img.shape"
   ]
  },
  {
   "cell_type": "code",
   "execution_count": 42,
   "id": "68a831d3",
   "metadata": {},
   "outputs": [
    {
     "data": {
      "image/png": "[encoded data removed]",
      "text/plain": [
       "<Figure size 640x480 with 1 Axes>"
      ]
     },
     "metadata": {},
     "output_type": "display_data"
    }
   ],
   "source": [
    "imgplot = plt.imshow(img)"
   ]
  },
  {
   "cell_type": "code",
   "execution_count": 43,
   "id": "be047b5a",
   "metadata": {},
   "outputs": [],
   "source": [
    "train_real = os.listdir('Images/train/REAL')\n",
    "train_fake = os.listdir('Images/train/FAKE')\n",
    "test_real = os.listdir('Images/test/REAL')\n",
    "test_fake = os.listdir('Images/test/FAKE')"
   ]
  },
  {
   "cell_type": "markdown",
   "id": "d76956fb",
   "metadata": {},
   "source": [
    "## Creating training dataset"
   ]
  },
  {
   "cell_type": "code",
   "execution_count": 44,
   "id": "cf1f5d28",
   "metadata": {},
   "outputs": [],
   "source": [
    "df_1 = pd.DataFrame(train_real, columns=['Filename'])"
   ]
  },
  {
   "cell_type": "code",
   "execution_count": 45,
   "id": "c26fe1d4",
   "metadata": {},
   "outputs": [],
   "source": [
    "df_1['Real'] = 1\n",
    "df_1['Filename'] = 'Images/train/REAL/' + df_1['Filename']"
   ]
  },
  {
   "cell_type": "code",
   "execution_count": 46,
   "id": "89c4812b",
   "metadata": {},
   "outputs": [
    {
     "data": {
      "text/plain": [
       "100000"
      ]
     },
     "execution_count": 46,
     "metadata": {},
     "output_type": "execute_result"
    }
   ],
   "source": [
    "df_1.size"
   ]
  },
  {
   "cell_type": "code",
   "execution_count": 47,
   "id": "760b2eaf",
   "metadata": {},
   "outputs": [],
   "source": [
    "df_2 = pd.DataFrame(train_fake, columns=['Filename'])\n",
    "df_2['Real'] = 0\n",
    "df_2['Filename'] = 'Images/train/FAKE/' + df_2['Filename']"
   ]
  },
  {
   "cell_type": "code",
   "execution_count": 48,
   "id": "be59d987",
   "metadata": {},
   "outputs": [
    {
     "data": {
      "text/plain": [
       "100000"
      ]
     },
     "execution_count": 48,
     "metadata": {},
     "output_type": "execute_result"
    }
   ],
   "source": [
    "df_2.size"
   ]
  },
  {
   "cell_type": "code",
   "execution_count": 49,
   "id": "f2d83f6b",
   "metadata": {},
   "outputs": [],
   "source": [
    "train_df = pd.merge(df_1, df_2, how='outer')"
   ]
  },
  {
   "cell_type": "code",
   "execution_count": 50,
   "id": "f6f77c1b",
   "metadata": {},
   "outputs": [
    {
     "data": {
      "text/html": [
       "<div>\n",
       "<style scoped>\n",
       "    .dataframe tbody tr th:only-of-type {\n",
       "        vertical-align: middle;\n",
       "    }\n",
       "\n",
       "    .dataframe tbody tr th {\n",
       "        vertical-align: top;\n",
       "    }\n",
       "\n",
       "    .dataframe thead th {\n",
       "        text-align: right;\n",
       "    }\n",
       "</style>\n",
       "<table border=\"1\" class=\"dataframe\">\n",
       "  <thead>\n",
       "    <tr style=\"text-align: right;\">\n",
       "      <th></th>\n",
       "      <th>Filename</th>\n",
       "      <th>Real</th>\n",
       "    </tr>\n",
       "  </thead>\n",
       "  <tbody>\n",
       "    <tr>\n",
       "      <th>0</th>\n",
       "      <td>Images/train/REAL/0000 (10).jpg</td>\n",
       "      <td>1</td>\n",
       "    </tr>\n",
       "    <tr>\n",
       "      <th>1</th>\n",
       "      <td>Images/train/REAL/0000 (2).jpg</td>\n",
       "      <td>1</td>\n",
       "    </tr>\n",
       "    <tr>\n",
       "      <th>2</th>\n",
       "      <td>Images/train/REAL/0000 (3).jpg</td>\n",
       "      <td>1</td>\n",
       "    </tr>\n",
       "    <tr>\n",
       "      <th>3</th>\n",
       "      <td>Images/train/REAL/0000 (4).jpg</td>\n",
       "      <td>1</td>\n",
       "    </tr>\n",
       "    <tr>\n",
       "      <th>4</th>\n",
       "      <td>Images/train/REAL/0000 (5).jpg</td>\n",
       "      <td>1</td>\n",
       "    </tr>\n",
       "    <tr>\n",
       "      <th>...</th>\n",
       "      <td>...</td>\n",
       "      <td>...</td>\n",
       "    </tr>\n",
       "    <tr>\n",
       "      <th>99995</th>\n",
       "      <td>Images/train/FAKE/5999 (6).jpg</td>\n",
       "      <td>0</td>\n",
       "    </tr>\n",
       "    <tr>\n",
       "      <th>99996</th>\n",
       "      <td>Images/train/FAKE/5999 (7).jpg</td>\n",
       "      <td>0</td>\n",
       "    </tr>\n",
       "    <tr>\n",
       "      <th>99997</th>\n",
       "      <td>Images/train/FAKE/5999 (8).jpg</td>\n",
       "      <td>0</td>\n",
       "    </tr>\n",
       "    <tr>\n",
       "      <th>99998</th>\n",
       "      <td>Images/train/FAKE/5999 (9).jpg</td>\n",
       "      <td>0</td>\n",
       "    </tr>\n",
       "    <tr>\n",
       "      <th>99999</th>\n",
       "      <td>Images/train/FAKE/5999.jpg</td>\n",
       "      <td>0</td>\n",
       "    </tr>\n",
       "  </tbody>\n",
       "</table>\n",
       "<p>100000 rows × 2 columns</p>\n",
       "</div>"
      ],
      "text/plain": [
       "                              Filename  Real\n",
       "0      Images/train/REAL/0000 (10).jpg     1\n",
       "1       Images/train/REAL/0000 (2).jpg     1\n",
       "2       Images/train/REAL/0000 (3).jpg     1\n",
       "3       Images/train/REAL/0000 (4).jpg     1\n",
       "4       Images/train/REAL/0000 (5).jpg     1\n",
       "...                                ...   ...\n",
       "99995   Images/train/FAKE/5999 (6).jpg     0\n",
       "99996   Images/train/FAKE/5999 (7).jpg     0\n",
       "99997   Images/train/FAKE/5999 (8).jpg     0\n",
       "99998   Images/train/FAKE/5999 (9).jpg     0\n",
       "99999       Images/train/FAKE/5999.jpg     0\n",
       "\n",
       "[100000 rows x 2 columns]"
      ]
     },
     "execution_count": 50,
     "metadata": {},
     "output_type": "execute_result"
    }
   ],
   "source": [
    "train_df"
   ]
  },
  {
   "cell_type": "code",
   "execution_count": 51,
   "id": "c6186aa2",
   "metadata": {},
   "outputs": [],
   "source": [
    "train_df.to_csv('train.csv', index=False)"
   ]
  },
  {
   "cell_type": "markdown",
   "id": "faa2a020",
   "metadata": {},
   "source": [
    "## Making small training set"
   ]
  },
  {
   "cell_type": "code",
   "execution_count": 8,
   "id": "e242a25d",
   "metadata": {},
   "outputs": [],
   "source": [
    "train_df = pd.read_csv('train.csv')"
   ]
  },
  {
   "cell_type": "code",
   "execution_count": 13,
   "id": "49ba48a6",
   "metadata": {
    "collapsed": true
   },
   "outputs": [
    {
     "data": {
      "text/html": [
       "<div>\n",
       "<style scoped>\n",
       "    .dataframe tbody tr th:only-of-type {\n",
       "        vertical-align: middle;\n",
       "    }\n",
       "\n",
       "    .dataframe tbody tr th {\n",
       "        vertical-align: top;\n",
       "    }\n",
       "\n",
       "    .dataframe thead th {\n",
       "        text-align: right;\n",
       "    }\n",
       "</style>\n",
       "<table border=\"1\" class=\"dataframe\">\n",
       "  <thead>\n",
       "    <tr style=\"text-align: right;\">\n",
       "      <th></th>\n",
       "      <th>Filename</th>\n",
       "      <th>Real</th>\n",
       "    </tr>\n",
       "  </thead>\n",
       "  <tbody>\n",
       "    <tr>\n",
       "      <th>0</th>\n",
       "      <td>Images/train/REAL/0000 (10).jpg</td>\n",
       "      <td>1</td>\n",
       "    </tr>\n",
       "    <tr>\n",
       "      <th>1</th>\n",
       "      <td>Images/train/REAL/0000 (2).jpg</td>\n",
       "      <td>1</td>\n",
       "    </tr>\n",
       "    <tr>\n",
       "      <th>2</th>\n",
       "      <td>Images/train/REAL/0000 (3).jpg</td>\n",
       "      <td>1</td>\n",
       "    </tr>\n",
       "    <tr>\n",
       "      <th>3</th>\n",
       "      <td>Images/train/REAL/0000 (4).jpg</td>\n",
       "      <td>1</td>\n",
       "    </tr>\n",
       "    <tr>\n",
       "      <th>4</th>\n",
       "      <td>Images/train/REAL/0000 (5).jpg</td>\n",
       "      <td>1</td>\n",
       "    </tr>\n",
       "    <tr>\n",
       "      <th>...</th>\n",
       "      <td>...</td>\n",
       "      <td>...</td>\n",
       "    </tr>\n",
       "    <tr>\n",
       "      <th>70</th>\n",
       "      <td>Images/train/REAL/0007 (10).jpg</td>\n",
       "      <td>1</td>\n",
       "    </tr>\n",
       "    <tr>\n",
       "      <th>71</th>\n",
       "      <td>Images/train/REAL/0007 (2).jpg</td>\n",
       "      <td>1</td>\n",
       "    </tr>\n",
       "    <tr>\n",
       "      <th>72</th>\n",
       "      <td>Images/train/REAL/0007 (3).jpg</td>\n",
       "      <td>1</td>\n",
       "    </tr>\n",
       "    <tr>\n",
       "      <th>73</th>\n",
       "      <td>Images/train/REAL/0007 (4).jpg</td>\n",
       "      <td>1</td>\n",
       "    </tr>\n",
       "    <tr>\n",
       "      <th>74</th>\n",
       "      <td>Images/train/REAL/0007 (5).jpg</td>\n",
       "      <td>1</td>\n",
       "    </tr>\n",
       "  </tbody>\n",
       "</table>\n",
       "<p>75 rows × 2 columns</p>\n",
       "</div>"
      ],
      "text/plain": [
       "                           Filename  Real\n",
       "0   Images/train/REAL/0000 (10).jpg     1\n",
       "1    Images/train/REAL/0000 (2).jpg     1\n",
       "2    Images/train/REAL/0000 (3).jpg     1\n",
       "3    Images/train/REAL/0000 (4).jpg     1\n",
       "4    Images/train/REAL/0000 (5).jpg     1\n",
       "..                              ...   ...\n",
       "70  Images/train/REAL/0007 (10).jpg     1\n",
       "71   Images/train/REAL/0007 (2).jpg     1\n",
       "72   Images/train/REAL/0007 (3).jpg     1\n",
       "73   Images/train/REAL/0007 (4).jpg     1\n",
       "74   Images/train/REAL/0007 (5).jpg     1\n",
       "\n",
       "[75 rows x 2 columns]"
      ]
     },
     "execution_count": 13,
     "metadata": {},
     "output_type": "execute_result"
    }
   ],
   "source": [
    "train_df.head(55)"
   ]
  },
  {
   "cell_type": "code",
   "execution_count": 15,
   "id": "6232c00f",
   "metadata": {
    "collapsed": true
   },
   "outputs": [
    {
     "data": {
      "text/html": [
       "<div>\n",
       "<style scoped>\n",
       "    .dataframe tbody tr th:only-of-type {\n",
       "        vertical-align: middle;\n",
       "    }\n",
       "\n",
       "    .dataframe tbody tr th {\n",
       "        vertical-align: top;\n",
       "    }\n",
       "\n",
       "    .dataframe thead th {\n",
       "        text-align: right;\n",
       "    }\n",
       "</style>\n",
       "<table border=\"1\" class=\"dataframe\">\n",
       "  <thead>\n",
       "    <tr style=\"text-align: right;\">\n",
       "      <th></th>\n",
       "      <th>Filename</th>\n",
       "      <th>Real</th>\n",
       "    </tr>\n",
       "  </thead>\n",
       "  <tbody>\n",
       "    <tr>\n",
       "      <th>99945</th>\n",
       "      <td>Images/train/FAKE/5994 (6).jpg</td>\n",
       "      <td>0</td>\n",
       "    </tr>\n",
       "    <tr>\n",
       "      <th>99946</th>\n",
       "      <td>Images/train/FAKE/5994 (7).jpg</td>\n",
       "      <td>0</td>\n",
       "    </tr>\n",
       "    <tr>\n",
       "      <th>99947</th>\n",
       "      <td>Images/train/FAKE/5994 (8).jpg</td>\n",
       "      <td>0</td>\n",
       "    </tr>\n",
       "    <tr>\n",
       "      <th>99948</th>\n",
       "      <td>Images/train/FAKE/5994 (9).jpg</td>\n",
       "      <td>0</td>\n",
       "    </tr>\n",
       "    <tr>\n",
       "      <th>99949</th>\n",
       "      <td>Images/train/FAKE/5994.jpg</td>\n",
       "      <td>0</td>\n",
       "    </tr>\n",
       "    <tr>\n",
       "      <th>99950</th>\n",
       "      <td>Images/train/FAKE/5995 (10).jpg</td>\n",
       "      <td>0</td>\n",
       "    </tr>\n",
       "    <tr>\n",
       "      <th>99951</th>\n",
       "      <td>Images/train/FAKE/5995 (2).jpg</td>\n",
       "      <td>0</td>\n",
       "    </tr>\n",
       "    <tr>\n",
       "      <th>99952</th>\n",
       "      <td>Images/train/FAKE/5995 (3).jpg</td>\n",
       "      <td>0</td>\n",
       "    </tr>\n",
       "    <tr>\n",
       "      <th>99953</th>\n",
       "      <td>Images/train/FAKE/5995 (4).jpg</td>\n",
       "      <td>0</td>\n",
       "    </tr>\n",
       "    <tr>\n",
       "      <th>99954</th>\n",
       "      <td>Images/train/FAKE/5995 (5).jpg</td>\n",
       "      <td>0</td>\n",
       "    </tr>\n",
       "    <tr>\n",
       "      <th>99955</th>\n",
       "      <td>Images/train/FAKE/5995 (6).jpg</td>\n",
       "      <td>0</td>\n",
       "    </tr>\n",
       "    <tr>\n",
       "      <th>99956</th>\n",
       "      <td>Images/train/FAKE/5995 (7).jpg</td>\n",
       "      <td>0</td>\n",
       "    </tr>\n",
       "    <tr>\n",
       "      <th>99957</th>\n",
       "      <td>Images/train/FAKE/5995 (8).jpg</td>\n",
       "      <td>0</td>\n",
       "    </tr>\n",
       "    <tr>\n",
       "      <th>99958</th>\n",
       "      <td>Images/train/FAKE/5995 (9).jpg</td>\n",
       "      <td>0</td>\n",
       "    </tr>\n",
       "    <tr>\n",
       "      <th>99959</th>\n",
       "      <td>Images/train/FAKE/5995.jpg</td>\n",
       "      <td>0</td>\n",
       "    </tr>\n",
       "    <tr>\n",
       "      <th>99960</th>\n",
       "      <td>Images/train/FAKE/5996 (10).jpg</td>\n",
       "      <td>0</td>\n",
       "    </tr>\n",
       "    <tr>\n",
       "      <th>99961</th>\n",
       "      <td>Images/train/FAKE/5996 (2).jpg</td>\n",
       "      <td>0</td>\n",
       "    </tr>\n",
       "    <tr>\n",
       "      <th>99962</th>\n",
       "      <td>Images/train/FAKE/5996 (3).jpg</td>\n",
       "      <td>0</td>\n",
       "    </tr>\n",
       "    <tr>\n",
       "      <th>99963</th>\n",
       "      <td>Images/train/FAKE/5996 (4).jpg</td>\n",
       "      <td>0</td>\n",
       "    </tr>\n",
       "    <tr>\n",
       "      <th>99964</th>\n",
       "      <td>Images/train/FAKE/5996 (5).jpg</td>\n",
       "      <td>0</td>\n",
       "    </tr>\n",
       "    <tr>\n",
       "      <th>99965</th>\n",
       "      <td>Images/train/FAKE/5996 (6).jpg</td>\n",
       "      <td>0</td>\n",
       "    </tr>\n",
       "    <tr>\n",
       "      <th>99966</th>\n",
       "      <td>Images/train/FAKE/5996 (7).jpg</td>\n",
       "      <td>0</td>\n",
       "    </tr>\n",
       "    <tr>\n",
       "      <th>99967</th>\n",
       "      <td>Images/train/FAKE/5996 (8).jpg</td>\n",
       "      <td>0</td>\n",
       "    </tr>\n",
       "    <tr>\n",
       "      <th>99968</th>\n",
       "      <td>Images/train/FAKE/5996 (9).jpg</td>\n",
       "      <td>0</td>\n",
       "    </tr>\n",
       "    <tr>\n",
       "      <th>99969</th>\n",
       "      <td>Images/train/FAKE/5996.jpg</td>\n",
       "      <td>0</td>\n",
       "    </tr>\n",
       "    <tr>\n",
       "      <th>99970</th>\n",
       "      <td>Images/train/FAKE/5997 (10).jpg</td>\n",
       "      <td>0</td>\n",
       "    </tr>\n",
       "    <tr>\n",
       "      <th>99971</th>\n",
       "      <td>Images/train/FAKE/5997 (2).jpg</td>\n",
       "      <td>0</td>\n",
       "    </tr>\n",
       "    <tr>\n",
       "      <th>99972</th>\n",
       "      <td>Images/train/FAKE/5997 (3).jpg</td>\n",
       "      <td>0</td>\n",
       "    </tr>\n",
       "    <tr>\n",
       "      <th>99973</th>\n",
       "      <td>Images/train/FAKE/5997 (4).jpg</td>\n",
       "      <td>0</td>\n",
       "    </tr>\n",
       "    <tr>\n",
       "      <th>99974</th>\n",
       "      <td>Images/train/FAKE/5997 (5).jpg</td>\n",
       "      <td>0</td>\n",
       "    </tr>\n",
       "    <tr>\n",
       "      <th>99975</th>\n",
       "      <td>Images/train/FAKE/5997 (6).jpg</td>\n",
       "      <td>0</td>\n",
       "    </tr>\n",
       "    <tr>\n",
       "      <th>99976</th>\n",
       "      <td>Images/train/FAKE/5997 (7).jpg</td>\n",
       "      <td>0</td>\n",
       "    </tr>\n",
       "    <tr>\n",
       "      <th>99977</th>\n",
       "      <td>Images/train/FAKE/5997 (8).jpg</td>\n",
       "      <td>0</td>\n",
       "    </tr>\n",
       "    <tr>\n",
       "      <th>99978</th>\n",
       "      <td>Images/train/FAKE/5997 (9).jpg</td>\n",
       "      <td>0</td>\n",
       "    </tr>\n",
       "    <tr>\n",
       "      <th>99979</th>\n",
       "      <td>Images/train/FAKE/5997.jpg</td>\n",
       "      <td>0</td>\n",
       "    </tr>\n",
       "    <tr>\n",
       "      <th>99980</th>\n",
       "      <td>Images/train/FAKE/5998 (10).jpg</td>\n",
       "      <td>0</td>\n",
       "    </tr>\n",
       "    <tr>\n",
       "      <th>99981</th>\n",
       "      <td>Images/train/FAKE/5998 (2).jpg</td>\n",
       "      <td>0</td>\n",
       "    </tr>\n",
       "    <tr>\n",
       "      <th>99982</th>\n",
       "      <td>Images/train/FAKE/5998 (3).jpg</td>\n",
       "      <td>0</td>\n",
       "    </tr>\n",
       "    <tr>\n",
       "      <th>99983</th>\n",
       "      <td>Images/train/FAKE/5998 (4).jpg</td>\n",
       "      <td>0</td>\n",
       "    </tr>\n",
       "    <tr>\n",
       "      <th>99984</th>\n",
       "      <td>Images/train/FAKE/5998 (5).jpg</td>\n",
       "      <td>0</td>\n",
       "    </tr>\n",
       "    <tr>\n",
       "      <th>99985</th>\n",
       "      <td>Images/train/FAKE/5998 (6).jpg</td>\n",
       "      <td>0</td>\n",
       "    </tr>\n",
       "    <tr>\n",
       "      <th>99986</th>\n",
       "      <td>Images/train/FAKE/5998 (7).jpg</td>\n",
       "      <td>0</td>\n",
       "    </tr>\n",
       "    <tr>\n",
       "      <th>99987</th>\n",
       "      <td>Images/train/FAKE/5998 (8).jpg</td>\n",
       "      <td>0</td>\n",
       "    </tr>\n",
       "    <tr>\n",
       "      <th>99988</th>\n",
       "      <td>Images/train/FAKE/5998 (9).jpg</td>\n",
       "      <td>0</td>\n",
       "    </tr>\n",
       "    <tr>\n",
       "      <th>99989</th>\n",
       "      <td>Images/train/FAKE/5998.jpg</td>\n",
       "      <td>0</td>\n",
       "    </tr>\n",
       "    <tr>\n",
       "      <th>99990</th>\n",
       "      <td>Images/train/FAKE/5999 (10).jpg</td>\n",
       "      <td>0</td>\n",
       "    </tr>\n",
       "    <tr>\n",
       "      <th>99991</th>\n",
       "      <td>Images/train/FAKE/5999 (2).jpg</td>\n",
       "      <td>0</td>\n",
       "    </tr>\n",
       "    <tr>\n",
       "      <th>99992</th>\n",
       "      <td>Images/train/FAKE/5999 (3).jpg</td>\n",
       "      <td>0</td>\n",
       "    </tr>\n",
       "    <tr>\n",
       "      <th>99993</th>\n",
       "      <td>Images/train/FAKE/5999 (4).jpg</td>\n",
       "      <td>0</td>\n",
       "    </tr>\n",
       "    <tr>\n",
       "      <th>99994</th>\n",
       "      <td>Images/train/FAKE/5999 (5).jpg</td>\n",
       "      <td>0</td>\n",
       "    </tr>\n",
       "    <tr>\n",
       "      <th>99995</th>\n",
       "      <td>Images/train/FAKE/5999 (6).jpg</td>\n",
       "      <td>0</td>\n",
       "    </tr>\n",
       "    <tr>\n",
       "      <th>99996</th>\n",
       "      <td>Images/train/FAKE/5999 (7).jpg</td>\n",
       "      <td>0</td>\n",
       "    </tr>\n",
       "    <tr>\n",
       "      <th>99997</th>\n",
       "      <td>Images/train/FAKE/5999 (8).jpg</td>\n",
       "      <td>0</td>\n",
       "    </tr>\n",
       "    <tr>\n",
       "      <th>99998</th>\n",
       "      <td>Images/train/FAKE/5999 (9).jpg</td>\n",
       "      <td>0</td>\n",
       "    </tr>\n",
       "    <tr>\n",
       "      <th>99999</th>\n",
       "      <td>Images/train/FAKE/5999.jpg</td>\n",
       "      <td>0</td>\n",
       "    </tr>\n",
       "  </tbody>\n",
       "</table>\n",
       "</div>"
      ],
      "text/plain": [
       "                              Filename  Real\n",
       "99945   Images/train/FAKE/5994 (6).jpg     0\n",
       "99946   Images/train/FAKE/5994 (7).jpg     0\n",
       "99947   Images/train/FAKE/5994 (8).jpg     0\n",
       "99948   Images/train/FAKE/5994 (9).jpg     0\n",
       "99949       Images/train/FAKE/5994.jpg     0\n",
       "99950  Images/train/FAKE/5995 (10).jpg     0\n",
       "99951   Images/train/FAKE/5995 (2).jpg     0\n",
       "99952   Images/train/FAKE/5995 (3).jpg     0\n",
       "99953   Images/train/FAKE/5995 (4).jpg     0\n",
       "99954   Images/train/FAKE/5995 (5).jpg     0\n",
       "99955   Images/train/FAKE/5995 (6).jpg     0\n",
       "99956   Images/train/FAKE/5995 (7).jpg     0\n",
       "99957   Images/train/FAKE/5995 (8).jpg     0\n",
       "99958   Images/train/FAKE/5995 (9).jpg     0\n",
       "99959       Images/train/FAKE/5995.jpg     0\n",
       "99960  Images/train/FAKE/5996 (10).jpg     0\n",
       "99961   Images/train/FAKE/5996 (2).jpg     0\n",
       "99962   Images/train/FAKE/5996 (3).jpg     0\n",
       "99963   Images/train/FAKE/5996 (4).jpg     0\n",
       "99964   Images/train/FAKE/5996 (5).jpg     0\n",
       "99965   Images/train/FAKE/5996 (6).jpg     0\n",
       "99966   Images/train/FAKE/5996 (7).jpg     0\n",
       "99967   Images/train/FAKE/5996 (8).jpg     0\n",
       "99968   Images/train/FAKE/5996 (9).jpg     0\n",
       "99969       Images/train/FAKE/5996.jpg     0\n",
       "99970  Images/train/FAKE/5997 (10).jpg     0\n",
       "99971   Images/train/FAKE/5997 (2).jpg     0\n",
       "99972   Images/train/FAKE/5997 (3).jpg     0\n",
       "99973   Images/train/FAKE/5997 (4).jpg     0\n",
       "99974   Images/train/FAKE/5997 (5).jpg     0\n",
       "99975   Images/train/FAKE/5997 (6).jpg     0\n",
       "99976   Images/train/FAKE/5997 (7).jpg     0\n",
       "99977   Images/train/FAKE/5997 (8).jpg     0\n",
       "99978   Images/train/FAKE/5997 (9).jpg     0\n",
       "99979       Images/train/FAKE/5997.jpg     0\n",
       "99980  Images/train/FAKE/5998 (10).jpg     0\n",
       "99981   Images/train/FAKE/5998 (2).jpg     0\n",
       "99982   Images/train/FAKE/5998 (3).jpg     0\n",
       "99983   Images/train/FAKE/5998 (4).jpg     0\n",
       "99984   Images/train/FAKE/5998 (5).jpg     0\n",
       "99985   Images/train/FAKE/5998 (6).jpg     0\n",
       "99986   Images/train/FAKE/5998 (7).jpg     0\n",
       "99987   Images/train/FAKE/5998 (8).jpg     0\n",
       "99988   Images/train/FAKE/5998 (9).jpg     0\n",
       "99989       Images/train/FAKE/5998.jpg     0\n",
       "99990  Images/train/FAKE/5999 (10).jpg     0\n",
       "99991   Images/train/FAKE/5999 (2).jpg     0\n",
       "99992   Images/train/FAKE/5999 (3).jpg     0\n",
       "99993   Images/train/FAKE/5999 (4).jpg     0\n",
       "99994   Images/train/FAKE/5999 (5).jpg     0\n",
       "99995   Images/train/FAKE/5999 (6).jpg     0\n",
       "99996   Images/train/FAKE/5999 (7).jpg     0\n",
       "99997   Images/train/FAKE/5999 (8).jpg     0\n",
       "99998   Images/train/FAKE/5999 (9).jpg     0\n",
       "99999       Images/train/FAKE/5999.jpg     0"
      ]
     },
     "execution_count": 15,
     "metadata": {},
     "output_type": "execute_result"
    }
   ],
   "source": [
    "train_df.tail(55)"
   ]
  },
  {
   "cell_type": "code",
   "execution_count": 27,
   "id": "1b5a8dcb",
   "metadata": {},
   "outputs": [],
   "source": [
    "small_train = pd.merge(train_df.head(100), train_df.tail(100), how=\"outer\")"
   ]
  },
  {
   "cell_type": "code",
   "execution_count": 28,
   "id": "643685b0",
   "metadata": {
    "scrolled": true
   },
   "outputs": [
    {
     "data": {
      "text/html": [
       "<div>\n",
       "<style scoped>\n",
       "    .dataframe tbody tr th:only-of-type {\n",
       "        vertical-align: middle;\n",
       "    }\n",
       "\n",
       "    .dataframe tbody tr th {\n",
       "        vertical-align: top;\n",
       "    }\n",
       "\n",
       "    .dataframe thead th {\n",
       "        text-align: right;\n",
       "    }\n",
       "</style>\n",
       "<table border=\"1\" class=\"dataframe\">\n",
       "  <thead>\n",
       "    <tr style=\"text-align: right;\">\n",
       "      <th></th>\n",
       "      <th>Filename</th>\n",
       "      <th>Real</th>\n",
       "    </tr>\n",
       "  </thead>\n",
       "  <tbody>\n",
       "    <tr>\n",
       "      <th>0</th>\n",
       "      <td>Images/train/REAL/0000 (10).jpg</td>\n",
       "      <td>1</td>\n",
       "    </tr>\n",
       "    <tr>\n",
       "      <th>1</th>\n",
       "      <td>Images/train/REAL/0000 (2).jpg</td>\n",
       "      <td>1</td>\n",
       "    </tr>\n",
       "    <tr>\n",
       "      <th>2</th>\n",
       "      <td>Images/train/REAL/0000 (3).jpg</td>\n",
       "      <td>1</td>\n",
       "    </tr>\n",
       "    <tr>\n",
       "      <th>3</th>\n",
       "      <td>Images/train/REAL/0000 (4).jpg</td>\n",
       "      <td>1</td>\n",
       "    </tr>\n",
       "    <tr>\n",
       "      <th>4</th>\n",
       "      <td>Images/train/REAL/0000 (5).jpg</td>\n",
       "      <td>1</td>\n",
       "    </tr>\n",
       "    <tr>\n",
       "      <th>...</th>\n",
       "      <td>...</td>\n",
       "      <td>...</td>\n",
       "    </tr>\n",
       "    <tr>\n",
       "      <th>195</th>\n",
       "      <td>Images/train/FAKE/5999 (6).jpg</td>\n",
       "      <td>0</td>\n",
       "    </tr>\n",
       "    <tr>\n",
       "      <th>196</th>\n",
       "      <td>Images/train/FAKE/5999 (7).jpg</td>\n",
       "      <td>0</td>\n",
       "    </tr>\n",
       "    <tr>\n",
       "      <th>197</th>\n",
       "      <td>Images/train/FAKE/5999 (8).jpg</td>\n",
       "      <td>0</td>\n",
       "    </tr>\n",
       "    <tr>\n",
       "      <th>198</th>\n",
       "      <td>Images/train/FAKE/5999 (9).jpg</td>\n",
       "      <td>0</td>\n",
       "    </tr>\n",
       "    <tr>\n",
       "      <th>199</th>\n",
       "      <td>Images/train/FAKE/5999.jpg</td>\n",
       "      <td>0</td>\n",
       "    </tr>\n",
       "  </tbody>\n",
       "</table>\n",
       "<p>200 rows × 2 columns</p>\n",
       "</div>"
      ],
      "text/plain": [
       "                            Filename  Real\n",
       "0    Images/train/REAL/0000 (10).jpg     1\n",
       "1     Images/train/REAL/0000 (2).jpg     1\n",
       "2     Images/train/REAL/0000 (3).jpg     1\n",
       "3     Images/train/REAL/0000 (4).jpg     1\n",
       "4     Images/train/REAL/0000 (5).jpg     1\n",
       "..                               ...   ...\n",
       "195   Images/train/FAKE/5999 (6).jpg     0\n",
       "196   Images/train/FAKE/5999 (7).jpg     0\n",
       "197   Images/train/FAKE/5999 (8).jpg     0\n",
       "198   Images/train/FAKE/5999 (9).jpg     0\n",
       "199       Images/train/FAKE/5999.jpg     0\n",
       "\n",
       "[200 rows x 2 columns]"
      ]
     },
     "execution_count": 28,
     "metadata": {},
     "output_type": "execute_result"
    }
   ],
   "source": [
    "small_train"
   ]
  },
  {
   "cell_type": "code",
   "execution_count": 29,
   "id": "fc6ae2ab",
   "metadata": {},
   "outputs": [],
   "source": [
    "small_train.to_csv('small_train.csv', index=False)"
   ]
  },
  {
   "cell_type": "markdown",
   "id": "b0031488",
   "metadata": {},
   "source": [
    "## Creating test dataset"
   ]
  },
  {
   "cell_type": "code",
   "execution_count": 17,
   "id": "65eb1bc4",
   "metadata": {},
   "outputs": [],
   "source": [
    "df_3 = pd.DataFrame(test_real, columns=['Filename'])\n",
    "df_4 = pd.DataFrame(test_fake, columns=['Filename'])"
   ]
  },
  {
   "cell_type": "code",
   "execution_count": 18,
   "id": "0c5f3c0b",
   "metadata": {},
   "outputs": [],
   "source": [
    "df_3['Real'] = 1\n",
    "df_3['Filename'] = 'Images/test/REAL/' + df_3['Filename']"
   ]
  },
  {
   "cell_type": "code",
   "execution_count": 19,
   "id": "e090ffd8",
   "metadata": {},
   "outputs": [],
   "source": [
    "df_4['Real'] = 0\n",
    "df_4['Filename'] = 'Images/test/FAKE/' + df_4['Filename']"
   ]
  },
  {
   "cell_type": "code",
   "execution_count": 20,
   "id": "ac2ff86a",
   "metadata": {},
   "outputs": [],
   "source": [
    "test_df = pd.merge(df_3, df_4, how='outer')"
   ]
  },
  {
   "cell_type": "code",
   "execution_count": 21,
   "id": "2f11c867",
   "metadata": {},
   "outputs": [],
   "source": [
    "test_df.to_csv('test.csv', index=False)"
   ]
  },
  {
   "cell_type": "code",
   "execution_count": 23,
   "id": "040cc526",
   "metadata": {},
   "outputs": [],
   "source": [
    "test_df = pd.read_csv('test.csv')"
   ]
  },
  {
   "cell_type": "code",
   "execution_count": 24,
   "id": "c5b977e2",
   "metadata": {},
   "outputs": [
    {
     "data": {
      "text/html": [
       "<div>\n",
       "<style scoped>\n",
       "    .dataframe tbody tr th:only-of-type {\n",
       "        vertical-align: middle;\n",
       "    }\n",
       "\n",
       "    .dataframe tbody tr th {\n",
       "        vertical-align: top;\n",
       "    }\n",
       "\n",
       "    .dataframe thead th {\n",
       "        text-align: right;\n",
       "    }\n",
       "</style>\n",
       "<table border=\"1\" class=\"dataframe\">\n",
       "  <thead>\n",
       "    <tr style=\"text-align: right;\">\n",
       "      <th></th>\n",
       "      <th>Filename</th>\n",
       "      <th>Real</th>\n",
       "    </tr>\n",
       "  </thead>\n",
       "  <tbody>\n",
       "    <tr>\n",
       "      <th>0</th>\n",
       "      <td>Images/test/REAL/0000 (10).jpg</td>\n",
       "      <td>1</td>\n",
       "    </tr>\n",
       "    <tr>\n",
       "      <th>1</th>\n",
       "      <td>Images/test/REAL/0000 (2).jpg</td>\n",
       "      <td>1</td>\n",
       "    </tr>\n",
       "    <tr>\n",
       "      <th>2</th>\n",
       "      <td>Images/test/REAL/0000 (3).jpg</td>\n",
       "      <td>1</td>\n",
       "    </tr>\n",
       "    <tr>\n",
       "      <th>3</th>\n",
       "      <td>Images/test/REAL/0000 (4).jpg</td>\n",
       "      <td>1</td>\n",
       "    </tr>\n",
       "    <tr>\n",
       "      <th>4</th>\n",
       "      <td>Images/test/REAL/0000 (5).jpg</td>\n",
       "      <td>1</td>\n",
       "    </tr>\n",
       "    <tr>\n",
       "      <th>...</th>\n",
       "      <td>...</td>\n",
       "      <td>...</td>\n",
       "    </tr>\n",
       "    <tr>\n",
       "      <th>19995</th>\n",
       "      <td>Images/test/FAKE/999 (6).jpg</td>\n",
       "      <td>0</td>\n",
       "    </tr>\n",
       "    <tr>\n",
       "      <th>19996</th>\n",
       "      <td>Images/test/FAKE/999 (7).jpg</td>\n",
       "      <td>0</td>\n",
       "    </tr>\n",
       "    <tr>\n",
       "      <th>19997</th>\n",
       "      <td>Images/test/FAKE/999 (8).jpg</td>\n",
       "      <td>0</td>\n",
       "    </tr>\n",
       "    <tr>\n",
       "      <th>19998</th>\n",
       "      <td>Images/test/FAKE/999 (9).jpg</td>\n",
       "      <td>0</td>\n",
       "    </tr>\n",
       "    <tr>\n",
       "      <th>19999</th>\n",
       "      <td>Images/test/FAKE/999.jpg</td>\n",
       "      <td>0</td>\n",
       "    </tr>\n",
       "  </tbody>\n",
       "</table>\n",
       "<p>20000 rows × 2 columns</p>\n",
       "</div>"
      ],
      "text/plain": [
       "                             Filename  Real\n",
       "0      Images/test/REAL/0000 (10).jpg     1\n",
       "1       Images/test/REAL/0000 (2).jpg     1\n",
       "2       Images/test/REAL/0000 (3).jpg     1\n",
       "3       Images/test/REAL/0000 (4).jpg     1\n",
       "4       Images/test/REAL/0000 (5).jpg     1\n",
       "...                               ...   ...\n",
       "19995    Images/test/FAKE/999 (6).jpg     0\n",
       "19996    Images/test/FAKE/999 (7).jpg     0\n",
       "19997    Images/test/FAKE/999 (8).jpg     0\n",
       "19998    Images/test/FAKE/999 (9).jpg     0\n",
       "19999        Images/test/FAKE/999.jpg     0\n",
       "\n",
       "[20000 rows x 2 columns]"
      ]
     },
     "execution_count": 24,
     "metadata": {},
     "output_type": "execute_result"
    }
   ],
   "source": [
    "test_df"
   ]
  },
  {
   "cell_type": "markdown",
   "id": "a5d9c61f",
   "metadata": {},
   "source": [
    "## Making small testing set"
   ]
  },
  {
   "cell_type": "code",
   "execution_count": 30,
   "id": "392ac273",
   "metadata": {},
   "outputs": [],
   "source": [
    "small_test = pd.merge(test_df.head(50), test_df.tail(50), how=\"outer\")"
   ]
  },
  {
   "cell_type": "code",
   "execution_count": 31,
   "id": "7edf6667",
   "metadata": {},
   "outputs": [
    {
     "data": {
      "text/html": [
       "<div>\n",
       "<style scoped>\n",
       "    .dataframe tbody tr th:only-of-type {\n",
       "        vertical-align: middle;\n",
       "    }\n",
       "\n",
       "    .dataframe tbody tr th {\n",
       "        vertical-align: top;\n",
       "    }\n",
       "\n",
       "    .dataframe thead th {\n",
       "        text-align: right;\n",
       "    }\n",
       "</style>\n",
       "<table border=\"1\" class=\"dataframe\">\n",
       "  <thead>\n",
       "    <tr style=\"text-align: right;\">\n",
       "      <th></th>\n",
       "      <th>Filename</th>\n",
       "      <th>Real</th>\n",
       "    </tr>\n",
       "  </thead>\n",
       "  <tbody>\n",
       "    <tr>\n",
       "      <th>0</th>\n",
       "      <td>Images/test/REAL/0000 (10).jpg</td>\n",
       "      <td>1</td>\n",
       "    </tr>\n",
       "    <tr>\n",
       "      <th>1</th>\n",
       "      <td>Images/test/REAL/0000 (2).jpg</td>\n",
       "      <td>1</td>\n",
       "    </tr>\n",
       "    <tr>\n",
       "      <th>2</th>\n",
       "      <td>Images/test/REAL/0000 (3).jpg</td>\n",
       "      <td>1</td>\n",
       "    </tr>\n",
       "    <tr>\n",
       "      <th>3</th>\n",
       "      <td>Images/test/REAL/0000 (4).jpg</td>\n",
       "      <td>1</td>\n",
       "    </tr>\n",
       "    <tr>\n",
       "      <th>4</th>\n",
       "      <td>Images/test/REAL/0000 (5).jpg</td>\n",
       "      <td>1</td>\n",
       "    </tr>\n",
       "    <tr>\n",
       "      <th>...</th>\n",
       "      <td>...</td>\n",
       "      <td>...</td>\n",
       "    </tr>\n",
       "    <tr>\n",
       "      <th>95</th>\n",
       "      <td>Images/test/FAKE/999 (6).jpg</td>\n",
       "      <td>0</td>\n",
       "    </tr>\n",
       "    <tr>\n",
       "      <th>96</th>\n",
       "      <td>Images/test/FAKE/999 (7).jpg</td>\n",
       "      <td>0</td>\n",
       "    </tr>\n",
       "    <tr>\n",
       "      <th>97</th>\n",
       "      <td>Images/test/FAKE/999 (8).jpg</td>\n",
       "      <td>0</td>\n",
       "    </tr>\n",
       "    <tr>\n",
       "      <th>98</th>\n",
       "      <td>Images/test/FAKE/999 (9).jpg</td>\n",
       "      <td>0</td>\n",
       "    </tr>\n",
       "    <tr>\n",
       "      <th>99</th>\n",
       "      <td>Images/test/FAKE/999.jpg</td>\n",
       "      <td>0</td>\n",
       "    </tr>\n",
       "  </tbody>\n",
       "</table>\n",
       "<p>100 rows × 2 columns</p>\n",
       "</div>"
      ],
      "text/plain": [
       "                          Filename  Real\n",
       "0   Images/test/REAL/0000 (10).jpg     1\n",
       "1    Images/test/REAL/0000 (2).jpg     1\n",
       "2    Images/test/REAL/0000 (3).jpg     1\n",
       "3    Images/test/REAL/0000 (4).jpg     1\n",
       "4    Images/test/REAL/0000 (5).jpg     1\n",
       "..                             ...   ...\n",
       "95    Images/test/FAKE/999 (6).jpg     0\n",
       "96    Images/test/FAKE/999 (7).jpg     0\n",
       "97    Images/test/FAKE/999 (8).jpg     0\n",
       "98    Images/test/FAKE/999 (9).jpg     0\n",
       "99        Images/test/FAKE/999.jpg     0\n",
       "\n",
       "[100 rows x 2 columns]"
      ]
     },
     "execution_count": 31,
     "metadata": {},
     "output_type": "execute_result"
    }
   ],
   "source": [
    "small_test"
   ]
  },
  {
   "cell_type": "code",
   "execution_count": 40,
   "id": "59eb0b25",
   "metadata": {},
   "outputs": [],
   "source": [
    "small_test.to_csv('small_test.csv', index=False)"
   ]
  },
  {
   "cell_type": "markdown",
   "id": "786c27cb",
   "metadata": {},
   "source": [
    "# Creating Class for AI Image Data"
   ]
  },
  {
   "cell_type": "code",
   "execution_count": 10,
   "id": "1a88390a",
   "metadata": {},
   "outputs": [],
   "source": [
    "class AI_Image_Data(Dataset):\n",
    "    \n",
    "    def __init__(self, dataset, transform=None):\n",
    "        \n",
    "        self.dataframe = pd.read_csv(dataset)\n",
    "        self.images = self.dataframe['Filename'].to_numpy() \n",
    "        self.labels = torch.from_numpy(self.dataframe['Real'].to_numpy())\n",
    "        self.transform = transform\n",
    "        \n",
    "        \n",
    "    def __getitem__(self, idx):\n",
    "        \n",
    "        #image = read_image(self.images[idx])\n",
    "        image = Image.open(self.images[idx])\n",
    "        label = self.labels[idx]\n",
    "        \n",
    "        if self.transform:\n",
    "            image = self.transform(image)\n",
    "        \n",
    "        return image, label\n",
    "        \n",
    "    def __len__(self):\n",
    "        \n",
    "        return len(self.labels)"
   ]
  },
  {
   "cell_type": "markdown",
   "id": "319c08bb",
   "metadata": {},
   "source": [
    "### Testing Image Class"
   ]
  },
  {
   "cell_type": "code",
   "execution_count": 11,
   "id": "cbff2f78",
   "metadata": {},
   "outputs": [
    {
     "data": {
      "text/plain": [
       "(32, 32, 3)"
      ]
     },
     "execution_count": 11,
     "metadata": {},
     "output_type": "execute_result"
    },
    {
     "data": {
      "image/png": "[encoded data removed]",
      "text/plain": [
       "<Figure size 640x480 with 1 Axes>"
      ]
     },
     "metadata": {},
     "output_type": "display_data"
    }
   ],
   "source": [
    "small = pd.read_csv('small_train.csv')\n",
    "first = small.iloc[0,0]\n",
    "img = np.asarray(Image.open(first))\n",
    "imgplot = plt.imshow(img)\n",
    "img.shape"
   ]
  },
  {
   "cell_type": "code",
   "execution_count": 12,
   "id": "4a44e629",
   "metadata": {},
   "outputs": [
    {
     "data": {
      "text/plain": [
       "torch.Size([3, 32, 32])"
      ]
     },
     "execution_count": 12,
     "metadata": {},
     "output_type": "execute_result"
    }
   ],
   "source": [
    "transform = transforms.Compose([transforms.ToTensor(), transforms.Normalize((0.5, 0.5, 0.5), (0.5, 0.5, 0.5))])\n",
    "training_data = AI_Image_Data(\"small_train.csv\", transform=transform)\n",
    "first_data = training_data[0]\n",
    "features, labels = first_data\n",
    "features.size()"
   ]
  },
  {
   "cell_type": "code",
   "execution_count": 13,
   "id": "942cb81e",
   "metadata": {},
   "outputs": [
    {
     "data": {
      "text/plain": [
       "<matplotlib.image.AxesImage at 0x20a82672970>"
      ]
     },
     "execution_count": 13,
     "metadata": {},
     "output_type": "execute_result"
    },
    {
     "data": {
      "image/png": "[encoded data removed]",
      "text/plain": [
       "<Figure size 640x480 with 1 Axes>"
      ]
     },
     "metadata": {},
     "output_type": "display_data"
    }
   ],
   "source": [
    "transform = transforms.ToPILImage()\n",
    "img = transform(features)\n",
    "plt.imshow(img)"
   ]
  },
  {
   "cell_type": "code",
   "execution_count": 14,
   "id": "08da1833",
   "metadata": {},
   "outputs": [],
   "source": [
    "def imshow(img):\n",
    "    img = img / 2 + 0.5  # unnormalize\n",
    "    npimg = img.numpy()\n",
    "    plt.imshow(np.transpose(npimg, (1, 2, 0)))\n",
    "    plt.show()"
   ]
  },
  {
   "cell_type": "code",
   "execution_count": 15,
   "id": "9520b234",
   "metadata": {},
   "outputs": [],
   "source": [
    "train_loader = torch.utils.data.DataLoader(training_data, batch_size=4,\n",
    "                                          shuffle=True)"
   ]
  },
  {
   "cell_type": "code",
   "execution_count": 16,
   "id": "5c3611b3",
   "metadata": {},
   "outputs": [],
   "source": [
    "dataiter = iter(train_loader)\n",
    "images, labels = next(dataiter)"
   ]
  },
  {
   "cell_type": "code",
   "execution_count": 17,
   "id": "40e8997d",
   "metadata": {},
   "outputs": [
    {
     "data": {
      "image/png": "[encoded data removed]",
      "text/plain": [
       "<Figure size 640x480 with 1 Axes>"
      ]
     },
     "metadata": {},
     "output_type": "display_data"
    }
   ],
   "source": [
    "imshow(torchvision.utils.make_grid(images))"
   ]
  },
  {
   "cell_type": "code",
   "execution_count": null,
   "id": "b013c41b",
   "metadata": {},
   "outputs": [],
   "source": []
  },
  {
   "cell_type": "code",
   "execution_count": null,
   "id": "b3e56327",
   "metadata": {},
   "outputs": [],
   "source": []
  },
  {
   "cell_type": "code",
   "execution_count": null,
   "id": "a374e54c",
   "metadata": {},
   "outputs": [],
   "source": []
  },
  {
   "cell_type": "code",
   "execution_count": 37,
   "id": "52367354",
   "metadata": {},
   "outputs": [],
   "source": [
    "training_data = AI_Image_Data(\"small_train.csv\",transform=transforms.Normalize((0.5,0.5,0.5),(0.5,0.5,0.5)))\n",
    "first_data = training_data[0]\n",
    "features, labels = first_data"
   ]
  },
  {
   "cell_type": "code",
   "execution_count": 38,
   "id": "64392be6",
   "metadata": {},
   "outputs": [
    {
     "name": "stdout",
     "output_type": "stream",
     "text": [
      "<class 'torch.Tensor'>\n",
      "<class 'torch.Tensor'>\n",
      "200\n"
     ]
    }
   ],
   "source": [
    "print(type(labels))\n",
    "print(type(features))\n",
    "print(len(training_data))"
   ]
  },
  {
   "cell_type": "code",
   "execution_count": 42,
   "id": "ce3584c8",
   "metadata": {},
   "outputs": [
    {
     "name": "stdout",
     "output_type": "stream",
     "text": [
      "<class 'torch.Tensor'>\n",
      "<class 'torch.Tensor'>\n",
      "100\n"
     ]
    }
   ],
   "source": [
    "testing_data = AI_Image_Data(\"small_test.csv\",transform=transforms.Normalize((0.5,0.5,0.5),(0.5,0.5,0.5)))\n",
    "first_data = training_data[0]\n",
    "features, labels = first_data\n",
    "\n",
    "print(type(labels))\n",
    "print(type(features))\n",
    "print(len(testing_data))"
   ]
  },
  {
   "cell_type": "code",
   "execution_count": 48,
   "id": "77fc8271",
   "metadata": {},
   "outputs": [],
   "source": [
    "dataloader = DataLoader(dataset=testing_data, batch_size = 10, shuffle=True, num_workers=0)"
   ]
  },
  {
   "cell_type": "code",
   "execution_count": 49,
   "id": "ba3a2da7",
   "metadata": {},
   "outputs": [
    {
     "name": "stdout",
     "output_type": "stream",
     "text": [
      "100 10\n"
     ]
    }
   ],
   "source": [
    "num_epochs = 5\n",
    "total_samples = len(testing_data)\n",
    "n_iterations = math.ceil(total_samples / 10)\n",
    "print(total_samples, n_iterations)"
   ]
  },
  {
   "cell_type": "code",
   "execution_count": 52,
   "id": "7721f5f3",
   "metadata": {
    "scrolled": true
   },
   "outputs": [
    {
     "name": "stdout",
     "output_type": "stream",
     "text": [
      "Epoch 1/5, step 5 /10, inputs torch.Size([10, 3, 32, 32])\n",
      "Epoch 1/5, step 10 /10, inputs torch.Size([10, 3, 32, 32])\n",
      "Epoch 2/5, step 5 /10, inputs torch.Size([10, 3, 32, 32])\n",
      "Epoch 2/5, step 10 /10, inputs torch.Size([10, 3, 32, 32])\n",
      "Epoch 3/5, step 5 /10, inputs torch.Size([10, 3, 32, 32])\n",
      "Epoch 3/5, step 10 /10, inputs torch.Size([10, 3, 32, 32])\n",
      "Epoch 4/5, step 5 /10, inputs torch.Size([10, 3, 32, 32])\n",
      "Epoch 4/5, step 10 /10, inputs torch.Size([10, 3, 32, 32])\n",
      "Epoch 5/5, step 5 /10, inputs torch.Size([10, 3, 32, 32])\n",
      "Epoch 5/5, step 10 /10, inputs torch.Size([10, 3, 32, 32])\n"
     ]
    }
   ],
   "source": [
    "for epoch in range(num_epochs):\n",
    "    for i, (inputs, labels) in enumerate(dataloader):\n",
    "        #forward backward, update\n",
    "        if (i+1) % 5 == 0:\n",
    "            print(f'Epoch {epoch+1}/{num_epochs}, step {i+1} /{n_iterations}, inputs {inputs.shape}')"
   ]
  },
  {
   "cell_type": "code",
   "execution_count": null,
   "id": "0e599267",
   "metadata": {},
   "outputs": [],
   "source": []
  }
 ],
 "metadata": {
  "kernelspec": {
   "display_name": "Python 3 (ipykernel)",
   "language": "python",
   "name": "python3"
  },
  "language_info": {
   "codemirror_mode": {
    "name": "ipython",
    "version": 3
   },
   "file_extension": ".py",
   "mimetype": "text/x-python",
   "name": "python",
   "nbconvert_exporter": "python",
   "pygments_lexer": "ipython3",
   "version": "3.9.13"
  }
 },
 "nbformat": 4,
 "nbformat_minor": 5
}
